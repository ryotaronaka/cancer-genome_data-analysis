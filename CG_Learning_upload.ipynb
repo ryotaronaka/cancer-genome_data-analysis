{
 "cells": [
  {
   "cell_type": "markdown",
   "metadata": {},
   "source": [
    "GWAS解析　体験手引書\n",
    "参考図書　がんゲノムデータ解析　著者：清水厚志、坊農秀雅　メディカル・サイエンス・インターナショナル\n",
    "\n",
    "手順1\n",
    "Gドライブの直下にprogramsフォルダを作成\n",
    "programsフォルダの直下にWDフォルダを作成\n",
    "WDフォルダの直下に、BIN、QC、GWAS、DATASETフォルダを作成\n",
    "WD - BIN\n",
    "   ├ DATASET\n",
    "   ├ GWAS\n",
    "   └ QC\n",
    "\n",
    "手順2\n",
    "この実行ファイルはWDフォルダの直下に保存する\n",
    "WD - BIN\n",
    "   ├ DATASET\n",
    "   ├ GWAS\n",
    "   ├ QC\n",
    "   └ KC_Learning.ipynb\n",
    "\n",
    "手順3\n",
    "plinkのHPに移動して、PLINK1.9の最新バージョン(windows 64bit)及び plink2.0の最新バージョンをダウンロードすr\n",
    "plinkのHPからダウンロードすると、「plink.exe」 「plink2.exe」があるので、このexeファイルをWDフォルダ配下の「WD」フォルダへ移動する。\n",
    "WD - BIN\n",
    "   │ ├ plink.exe\n",
    "   │ └ plink2.exe\n",
    "   ├ DATASET\n",
    "   ├ GWAS\n",
    "   ├ QC\n",
    "   └ KC_Learning.ipynb"
   ]
  },
  {
   "cell_type": "markdown",
   "metadata": {},
   "source": [
    "##############################\n",
    "6.4章　データの入手\n",
    "##############################\n",
    "\n",
    "GWASはジェノタイプデータと対象となる形質との間で関連解析を行う。\n",
    "そのため、ジェノタイプデータと形質データをそれぞれ準備する必要がある。\n",
    "形質データには、GWASの対象となる形質（目的変数）の他に、その目的変数に影響を与える遺伝形質以外の要因（共変数、または調整変数とも呼ぶ）のデータを含んでいる必要がある。\n",
    "\n",
    "本稿ではジェノタイプデータと形質データを解析に使用できるように整形していく。\n",
    "ここで利用するジェノタイプデータはDNAマイクロアレイで一部のバリアントのジェノタイプを決定したあと、インピュテーションという方法で、\n",
    "その他の箇所のジェノタイプを統計的に推定データを模している。\n",
    "\n",
    "インピュテーションにはスパコンレベルの計算力が必要となる。そのため、各研究機関が独自で行うのは現時点では効率的ではない。\n",
    "企業や他機関がインピュテーション済みデータとして提供しているものを利用するケースが多くなると想定される。\n",
    "\n",
    "インピュテーション\n",
    "GWASで使われるジェノタイプデータは、DNAマイクロアレイを使って決定される。\n",
    "DNAマイクロアレイでは数千万箇所に呼ぶSNPのうち、一般的にみられる100万箇所程度を対象に実験的にジェノタイプを決定する。\n",
    "残りのSNPは数千人規模の全ゲノムシーケンスで得られた、ヒトのSNPの大半が網羅されたデータを「参照パネル」として使用し、\n",
    "DNAマイクロアレイ由来のデータに含まれていない箇所のSNPのジェノタイプを推定する。\n",
    "この推定は、「同じ染色体内のSNPは互いに連鎖しており、一般的に近傍であるほど組替えが起こりにくい」という法則を利用する。\n",
    "ただし、実際に観察されるSNP間の組替えの頻度は単純に距離だけでは決まっておらず、組換えが比較的発生しづらい領域が存在する（連鎖不均衡）。\n",
    "インピュテーションはこうした実際に観察される組替えの頻度情報などを加味してジェノタイプの補完を進める。\n",
    "\n",
    "インピュテーションのツール\n",
    "・SHAPEIT\n",
    "・INPUTE2"
   ]
  },
  {
   "cell_type": "code",
   "execution_count": null,
   "metadata": {},
   "outputs": [],
   "source": [
    "# 以下のリンクから、GWAS解析に使うデータをダウンロードする。\n",
    "# http://www.medicalgenome.info/data/CancDAT/chapter6_GWAS/\n",
    "# Linuxならコマンドラインでwgetを使う場面だが、KCの環境ではwindowsかつコマンドラインが使えないので、Python上で一括ダウンロードできるようにする\n",
    "# 今回利用するジェノタイプデータセットは国際1000人ゲノム計画により得られた2,504人のジェノタイプデータのうち、日本人104人のデータに基づき、\n",
    "# シミュレーションによって作成されたデータセットとなっている。つまり、個人情報ではない情報になっている。\n",
    "# サンプルサイズはケースとコントロールでそれぞれ1000人、計2000人となっている。\n",
    "\n",
    "# 最低限知っておくべきLinuxコマンド\n",
    "# ../   一つ上のディレクトリ階層を示す\n",
    "# ./    現在のディレクトリを示す\n",
    "# cd    ディレクトリを変わる指示　　cd ../       とか   cd ./QC     みたいな使い方をする\n",
    "# pwd   現在のディレクトリがわからなくなったら、これ。\n",
    "# ls    現在のディレクトリの中身を表示させる\n",
    "\n",
    "# 結構時間がかかります。\n",
    "\n",
    "%cd ~/DATASET\n",
    "! wget -N -r --no-parent -nd http://www.medicalgenome.info/data/CancDAT/chapter6_GWAS/"
   ]
  },
  {
   "cell_type": "code",
   "execution_count": null,
   "metadata": {},
   "outputs": [],
   "source": [
    "# ディレクトリを変更する\n",
    "%cd ../\n",
    "\n",
    "# 現在地を示す。WDが望ましい\n",
    "%pwd"
   ]
  },
  {
   "cell_type": "code",
   "execution_count": null,
   "metadata": {},
   "outputs": [],
   "source": [
    "# ダウンロードしたファイルの中で、gzファイルがある。これがVCF。\n",
    "# VCFファイルの中身を確認する。VCF構造の説明は「vcf構造.png」を参照のこと。\n",
    "# M2 Mac Book Airで 17sec\n",
    "\n",
    "import gzip\n",
    "with gzip.open('./DATASET/1000GP_Phase3_chr1.gen.gz', 'rt', 'utf-8') as inst:\n",
    "    for line in inst:\n",
    "        print(line, end='')"
   ]
  },
  {
   "cell_type": "code",
   "execution_count": null,
   "metadata": {},
   "outputs": [],
   "source": [
    "# データセットの確認\n",
    "# gen.gzファイルにはジェノタイプ情報のみが保存されているが、sampleファイルにはgen.gzファイルに対応するサンプルのID名などの情報が格納されている。\n",
    "# ヘッダは2行。1行目は列名、2行目は各列のデータの種類（型）を示している。（0, D,B, P or C）\n",
    "# 0はID、Dは性別など２値で表される共変数、Bは病気の有など２値で表される目的変数、PまたはCはBMIなどの連続値で表される目的変数を示す。\n",
    "# 一般的に個人IDはIDのペアで表す。実際には同じIDが入っていることが多い。本体は片方に家系IDを入れる。\n",
    "\n",
    "! head ./DATASET/1000GP_Phase3_chr1.sample"
   ]
  },
  {
   "cell_type": "code",
   "execution_count": null,
   "metadata": {},
   "outputs": [],
   "source": [
    "# データセットの確認\n",
    "# 少し前に確認したものと同じ。これだと途中で切れてしまってわかりにくいかも。\n",
    "# 最後の「1-20」は列数を示している。\n",
    "# headは行数のコントロールで10行まで示すコマンド。\n",
    "# 「|」はパイプと呼ばれるLinuxコマンドの特徴。複数のコマンドを組み合わせることができ、パイプを使った処理をパイプラインと呼ぶ。\n",
    "# cutコマンドには、半角スペースでデータが区切られていることをダブルクオーテーションで区切った部分で教えている。\n",
    "\n",
    "! gunzip -c ./DATASET/1000GP_Phase3_chr1.gen.gz | head | cut -d \" \" -f 1-20"
   ]
  },
  {
   "cell_type": "code",
   "execution_count": null,
   "metadata": {},
   "outputs": [],
   "source": [
    "# ファイル形式の変換\n",
    "# 実行時間　M2 Macbook Air 16m53s\n",
    "# gen.gzファイルを、PLINKのバイナリ形式に変換する。このとき、.bed, .bim, .fam という３つのファイルが出来上がる。\n",
    "# ジェノタイプデータは .bed\n",
    "# バリアントの名前、位置、内容の情報は .bim\n",
    "# サンプルのIDや性別、形質の情報は .fam\n",
    "\n",
    "# plinkコマンドの意味\n",
    "# --gen;                .gen.gz ファイルを指定する\n",
    "# --sample;             .gen.gz に対応する sample ファイルを指定する\n",
    "# --oxford-single-chr;  このファイルの染色体番号を指定する\n",
    "# --make-bed;           バイナリplink形式で出力させる\n",
    "# --keep-allele-order;  データ中のアレルの順番が入れ替えられることを防ぐ\n",
    "# --out;                出力ファイル名を指定する\n",
    "\n",
    "!./BIN/plink --gen ./DATASET/1000GP_Phase3_chr1.gen.gz --sample ./DATASET/1000GP_Phase3_chr1.sample --oxford-single-chr 1 --make-bed --keep-allele-order --out ./QC/1000GP_Phase3_chr1\n"
   ]
  },
  {
   "cell_type": "code",
   "execution_count": null,
   "metadata": {},
   "outputs": [],
   "source": [
    "# .fam .bimのファイル構造を確認する\n",
    "\n",
    "# サンプルのIDや性別、形質の情報は .fam\n",
    "! head ./QC/1000GP_Phase3_chr1.fam "
   ]
  },
  {
   "cell_type": "code",
   "execution_count": null,
   "metadata": {},
   "outputs": [],
   "source": [
    "# バリアントの名前、位置、内容の情報は .bim\n",
    "! head ./QC/1000GP_Phase3_chr1.bim"
   ]
  }
 ],
 "metadata": {
  "language_info": {
   "name": "python"
  },
  "orig_nbformat": 4
 },
 "nbformat": 4,
 "nbformat_minor": 2
}
